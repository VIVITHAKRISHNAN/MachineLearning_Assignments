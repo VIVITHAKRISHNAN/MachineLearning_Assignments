{
  "cells": [
    {
      "cell_type": "markdown",
      "metadata": {
        "id": "fykhFKa3Ulnh"
      },
      "source": [
        "# ECE 9309/9039 Assignment # 2 Winter 2023\n"
      ]
    },
    {
      "cell_type": "markdown",
      "metadata": {
        "id": "370AKC5oUxsB"
      },
      "source": [
        "This notebook contains the questions for Assignment 2. Please note, a random seed has been set to ensure the reproducibility of the results -- *DO NOT* change this random seed. **If you call additional functions that are based on random number generators, you will need to define their seed to 42 as well**. Make sure to complete this assignment individually and appropriately reference all external code and documentation used. ***In order for your submission to be valid, you must adhere to the function definitions which have been made (failure to do so will result in a grade of 0). You must upload this completed Jupyter Notebook file as your submission (other file types are not permitted and will result in a grade of 0).*** You are responsible for selecting and importing additional packages. Your functions ***must*** be self-contained and should not reference or change global variables."
      ]
    },
    {
      "cell_type": "code",
      "execution_count": 27,
      "metadata": {
        "id": "45VAP00lUkc5"
      },
      "outputs": [],
      "source": [
        "import numpy as np\n",
        "np.random.seed(42)\n",
        "\n",
        "import os\n",
        "import pandas as pd\n",
        "from sklearn.model_selection import train_test_split, GridSearchCV\n",
        "from sklearn.pipeline import Pipeline\n",
        "from sklearn.ensemble import RandomForestClassifier,BaggingClassifier\n",
        "from sklearn.tree import DecisionTreeClassifier\n",
        "from sklearn.cluster import KMeans\n",
        "from sklearn.decomposition import PCA\n",
        "from sklearn.preprocessing import StandardScaler\n",
        "from sklearn.metrics import classification_report, accuracy_score, f1_score, recall_score, precision_score, confusion_matrix\n",
        "import time\n",
        "\n",
        "#add other imports here"
      ]
    },
    {
      "cell_type": "markdown",
      "metadata": {
        "id": "3YmD_jy2VkV5"
      },
      "source": [
        "## Dataset Description\n",
        "\n",
        "Attached with the assignment instructions, you will find the datasets.zip file. After unzipping the file, you will find two .csv files, where each file represents real-world measurement data of a heat experiment inside a steel furnace. \"merged_exp_normal.csv\" has all the normal experimental samples, while \"merged_exp_anomalous.csv\" has all the abnormal experimental samples.\n",
        "\n",
        "In the datasets, the features are the vibration measurements in columns A, B, ... , H, which correspond to (X1, X2, ... , X8) measurement signals. Each feature represents a vibration signal inside the furnace at several frequency bands. Each example is a measurement recorded at a time instance (Timestamp), which are considered time-series data measurements."
      ]
    },
    {
      "cell_type": "markdown",
      "metadata": {
        "id": "UD1u-9MwVY5k"
      },
      "source": [
        "## Question 1 - Data Preparations [10 Marks]\n",
        "\n",
        "A) Read \"merged_exp_normal.csv\" as a pandas dataframe \"normalMergedData\", and print out the shape of the merged normal dataset.\n",
        "\n",
        "B) Read \"merged_exp_anomalous.csv\" as a pandas dataframe \"anomalousMergedData\", and print out the shape of the merged anomalous dataset.\n"
      ]
    },
    {
      "cell_type": "code",
      "execution_count": 28,
      "metadata": {
        "id": "VYa70oGzXmbl",
        "colab": {
          "base_uri": "https://localhost:8080/"
        },
        "outputId": "1373ec9c-a1ad-49a8-9198-06e1b31e3027"
      },
      "outputs": [
        {
          "output_type": "stream",
          "name": "stdout",
          "text": [
            "(76593, 10)\n"
          ]
        }
      ],
      "source": [
        "### Q1A)\n",
        "#Read and print out the shape of the dataset\n",
        "normalMergedData = pd.read_csv('merged_exp_normal.csv')\n",
        "print(normalMergedData.shape)\n"
      ]
    },
    {
      "cell_type": "code",
      "execution_count": 29,
      "metadata": {
        "id": "T2EbZ-FwYIGl",
        "colab": {
          "base_uri": "https://localhost:8080/"
        },
        "outputId": "11e55c9c-7f81-41ab-bb57-288230887a82"
      },
      "outputs": [
        {
          "output_type": "stream",
          "name": "stdout",
          "text": [
            "(2599, 10)\n"
          ]
        }
      ],
      "source": [
        "### Q1B)\n",
        "#Read and print out the shape of the dataset\n",
        "anomalousMergedData = pd.read_csv('merged_exp_anomalous.csv')\n",
        "print(anomalousMergedData.shape)\n"
      ]
    },
    {
      "cell_type": "markdown",
      "metadata": {
        "id": "A2LBEIAJYQV1"
      },
      "source": [
        "## Question 2 - Supervised Learning Algorithms [50 Marks]\n",
        "\n",
        "A) Complete the myTrainTestSplit function, which takes as input **two dataframes** consisting of the normal and anomalous datasets and **returns 4 variables, Xtrain, Xtest, ytrain, and ytest**. Reserve 30 percent of your data for testing. Please consider ensuring the **same distribution** of anomalous data is present in both training and test sets when splitting the anomalous datasets. \n",
        "\n",
        "*Note: you can use `concat` from pandas library to concatenade trainig sets from two dataframes, and test sets from two dataframes.*\n",
        "\n",
        "\n",
        "B) Apply a Decision Tree model for classifying the events as normal or anomalous. Fill in the myDecisionTree function, which accepts as input the training set and returns a fully trained model. \n",
        "\n",
        "C) Apply a Bagging model that consists of 10 base decision trees for classifying the events as normal or anomalous. Fill in the myBagging function, which accepts as input the training set and returns a fully trained model. \n",
        "\n",
        "D) Apply a Random Forest model that consists of 10 base decision trees for classifying the events as normal or anomalous. Fill in the myRandomForest function, which accepts as input the training set and returns a fully trained model. \n",
        "\n",
        "E) Based on the trained Random Forest model from 2D, use a horizontal bar plot to plot the feature importance scores of all features (Timestamp, X1-X8).\n",
        "\n",
        "F) Fill in the myEvaluateSupervisedModelPerformance function, which takes as input the training and test sets. Please note, you will need to call your functions from 2B, 2C, and 2D within this function to train your models. \n",
        "- Calculate the training time for comparing models. \n",
        "- Evaluate the performance of your models using 3 metrics of `Recall`, `Preceision` and `f1 score`. Return three numpy arrays consisting of the three metrics calculated for each model on the test set and print them out. \n",
        "- Also, print out the confusion matrix of your three models on the test set. \n",
        "\n",
        "G) Written answer - Use the markdown cell to answer the following:\n",
        "- Justify the choice of three metrics for the evaluation of the model's performance.\n",
        "- Compare the performance and training time of the Decision Tree and Bagging models and discuss the reasons for the performance difference.\n",
        "- Compare the performance and training time of the Bagging and Random Forest models and discuss the reasons for the performance difference."
      ]
    },
    {
      "cell_type": "code",
      "execution_count": 30,
      "metadata": {
        "id": "3cdpWFuVZPFl"
      },
      "outputs": [],
      "source": [
        "### Q2A)\n",
        "\n",
        "def myTrainTestSplit(normalData, anomalousData):\n",
        "  #write function here\n",
        "  test_size=0.3;\n",
        "  random_state=42;\n",
        "  X_train_norm, X_test_norm, y_train_norm, y_test_norm = train_test_split(normalData.drop('Anomaly_Tag', axis=1), normalData['Anomaly_Tag'], test_size=test_size, random_state=random_state)\n",
        "  X_train_anom, X_test_anom, y_train_anom, y_test_anom = train_test_split(anomalousData.drop('Anomaly_Tag', axis=1), anomalousData['Anomaly_Tag'], test_size=test_size, random_state=random_state)\n",
        "\n",
        "  # Combine the normal and anomalous training and testing sets\n",
        "  Xtrain = pd.concat([X_train_norm, X_train_anom], axis=0)\n",
        "  Xtest = pd.concat([X_test_norm, X_test_anom], axis=0)\n",
        "  ytrain = pd.concat([y_train_norm, y_train_anom], axis=0)\n",
        "  ytest = pd.concat([y_test_norm, y_test_anom], axis=0)\n",
        "    \n",
        "  return Xtrain, Xtest, ytrain, ytest\n",
        "\n",
        "#Call the function here\n",
        "Xtrain, Xtest, ytrain, ytest= myTrainTestSplit(normalMergedData, anomalousMergedData);"
      ]
    },
    {
      "cell_type": "code",
      "execution_count": 31,
      "metadata": {
        "id": "Rdw3xDzGZdAb"
      },
      "outputs": [],
      "source": [
        "### Q2B)\n",
        "\n",
        "def myDecisionTree(Xtrain, ytrain):\n",
        "  #write function here\n",
        "  myDecisionTree = DecisionTreeClassifier(random_state=42)\n",
        "  myDecisionTree.fit(Xtrain, ytrain)\n",
        "    \n",
        "  return myDecisionTree"
      ]
    },
    {
      "cell_type": "code",
      "execution_count": 32,
      "metadata": {
        "id": "7nv9wTMAaKzq"
      },
      "outputs": [],
      "source": [
        "### Q2C)\n",
        "\n",
        "def myBagging(Xtrain, ytrain):\n",
        "  #write function here\n",
        "  myBagging = BaggingClassifier(estimator=DecisionTreeClassifier(random_state=42), n_estimators=10, random_state=42)\n",
        "  myBagging.fit(Xtrain, ytrain)\n",
        "  return myBagging"
      ]
    },
    {
      "cell_type": "code",
      "execution_count": 33,
      "metadata": {
        "id": "IFMi4Lxna1i0"
      },
      "outputs": [],
      "source": [
        "### Q2D)\n",
        "\n",
        "def myRandomForest(Xtrain, ytrain):\n",
        "  #write function here\n",
        "  myRandomForest = RandomForestClassifier(n_estimators=10, random_state=42)\n",
        "  myRandomForest.fit(Xtrain, ytrain)\n",
        "  return myRandomForest"
      ]
    },
    {
      "cell_type": "code",
      "execution_count": 34,
      "metadata": {
        "colab": {
          "base_uri": "https://localhost:8080/",
          "height": 295
        },
        "id": "5WzBCDpha1i0",
        "outputId": "b10461f1-613a-4c76-b6c8-c275b668f283"
      },
      "outputs": [
        {
          "output_type": "display_data",
          "data": {
            "text/plain": [
              "<Figure size 432x288 with 1 Axes>"
            ],
            "image/png": "[encoded data removed]"
          },
          "metadata": {
            "needs_background": "light"
          }
        }
      ],
      "source": [
        "### Q2E)\n",
        "import matplotlib.pyplot as plt\n",
        "def myRandomForestFeatureImportance(myRandomForestModel):\n",
        "  importances = myRandomForestModel.feature_importances_  \n",
        "  feature_names = list(Xtrain.columns)\n",
        "  # Create a horizontal bar plot\n",
        "  fig, ax = plt.subplots()\n",
        "  ax.barh(feature_names, importances)\n",
        "  ax.invert_yaxis()\n",
        "  ax.set_title('Feature importance scores of all features')\n",
        "  ax.set_xlabel('Feature Importance')\n",
        "  ax.set_ylabel('Feature Names')\n",
        "  plt.show()\n",
        "    \n",
        "#Call the function here\n",
        "myRandomForestFeatureImportance(myRandomForest(Xtrain, ytrain))"
      ]
    },
    {
      "cell_type": "code",
      "execution_count": 35,
      "metadata": {
        "id": "ldPs5xBRa7Q5",
        "colab": {
          "base_uri": "https://localhost:8080/"
        },
        "outputId": "66716334-9249-44a8-e4ee-f53a4dbbd400"
      },
      "outputs": [
        {
          "output_type": "stream",
          "name": "stdout",
          "text": [
            "myDecisionTree_training_time:  0.4558906555175781\n",
            "myBagging_training_time:  0.4558906555175781\n",
            "myRandomForest_training_time:  0.4558906555175781 \n",
            "\n",
            "DT_Results:  [0.9141025641025641, 0.8991172761664565, 0.9065479974570884]\n",
            "Bagging_Results:  [0.9217948717948717, 0.9809004092769441, 0.9504296100462657]\n",
            "RF_Results:  [0.882051282051282, 0.9927849927849928, 0.9341479972844535] \n",
            "\n",
            "confusion Matrix of  DecisionTreeClassifier(random_state=42) \n",
            " [[22898    80]\n",
            " [   67   713]] \n",
            "\n",
            "confusion Matrix of  BaggingClassifier(estimator=DecisionTreeClassifier(random_state=42),\n",
            "                  random_state=42) \n",
            " [[22964    14]\n",
            " [   61   719]] \n",
            "\n",
            "confusion Matrix of  RandomForestClassifier(n_estimators=10, random_state=42) \n",
            " [[22973     5]\n",
            " [   92   688]] \n",
            "\n"
          ]
        }
      ],
      "source": [
        "### Q2F)\n",
        "import time\n",
        "def myEvaluateSupervisedModelPerformance(Xtrain, Xtest, ytrain, ytest):\n",
        "  #write function here\n",
        "  #Calculate the training time for comparing models.\n",
        "  start_time = time.time();\n",
        "  myDecisionTree(Xtrain, ytrain);\n",
        "  end_time = time.time();\n",
        "  myDecisionTree_training_time = end_time - start_time;\n",
        "  print(\"myDecisionTree_training_time: \",  myDecisionTree_training_time)\n",
        "  \n",
        "  start_time = time.time();\n",
        "  myBagging(Xtrain, ytrain);\n",
        "  end_time = time.time();\n",
        "  myBagging_training_time = end_time - start_time;\n",
        "  print(\"myBagging_training_time: \",  myDecisionTree_training_time)\n",
        "\n",
        "  start_time = time.time();\n",
        "  myRandomForest (Xtrain, ytrain);\n",
        "  end_time = time.time();\n",
        "  myRandomForest_training_time = end_time - start_time;\n",
        "  print(\"myRandomForest_training_time: \",  myDecisionTree_training_time, \"\\n\")\n",
        " \n",
        "  #Evaluate the performance of  models using 3 metrics of Recall, Preceision and f1 score.\n",
        "  \n",
        "  ypred = myDecisionTree(Xtrain,ytrain).predict(Xtest)\n",
        "  DT_recall = recall_score(ytest, ypred)\n",
        "  DT_precision = precision_score(ytest, ypred)\n",
        "  DT_f1 = f1_score(ytest, ypred)\n",
        "  DT_Results=[DT_recall, DT_precision, DT_f1 ]\n",
        "\n",
        "  ypred = myBagging(Xtrain,ytrain).predict(Xtest)\n",
        "  Bagging_recall = recall_score(ytest, ypred)\n",
        "  Bagging_precision = precision_score(ytest, ypred)\n",
        "  Bagging_f1 = f1_score(ytest, ypred)\n",
        "  Bagging_Results=[Bagging_recall, Bagging_precision, Bagging_f1 ]\n",
        "\n",
        "  ypred = myRandomForest(Xtrain,ytrain).predict(Xtest)\n",
        "  RF_recall = recall_score(ytest, ypred)\n",
        "  RF_precision = precision_score(ytest, ypred)\n",
        "  RF_f1 = f1_score(ytest, ypred)\n",
        "  RF_Results=[RF_recall, RF_precision, RF_f1 ]\n",
        "\n",
        "  return DT_Results, Bagging_Results, RF_Results\n",
        "\n",
        "#Call the function here\n",
        "DT_Results, Bagging_Results, RF_Results=myEvaluateSupervisedModelPerformance(Xtrain, Xtest, ytrain, ytest)\n",
        "print(\"DT_Results: \", DT_Results)\n",
        "print(\"Bagging_Results: \", Bagging_Results)\n",
        "print(\"RF_Results: \", RF_Results, \"\\n\")\n",
        "\n",
        "#print out the confusion matrix of the three models on the test set.\n",
        "def printConfusionMatrix(model):\n",
        "  ypred=model.predict(Xtest)\n",
        "  cm= confusion_matrix(ytest,ypred)\n",
        "  print(\"confusion Matrix of \",model,\"\\n\" ,cm, \"\\n\")\n",
        "\n",
        "printConfusionMatrix(myDecisionTree(Xtrain,ytrain))\n",
        "printConfusionMatrix(myBagging(Xtrain,ytrain))\n",
        "printConfusionMatrix(myRandomForest(Xtrain,ytrain))"
      ]
    },
    {
      "cell_type": "markdown",
      "metadata": {
        "id": "ttLtyLi1b0IE"
      },
      "source": [
        "#### Q2G)\n",
        "\n",
        "## Choice of three metrics for the evaluation of the model's performance.\n",
        "Recall: Recall measures the proportion of actual positive cases that were correctly identified by the model.\n",
        "\n",
        "Precision: Precision measures the proportion of predicted positive cases that were actually positive. \n",
        "\n",
        "F1 score: The F1 score is the harmonic mean of precision and recall.\n",
        "\n",
        "The choice of recall, precision, and F1 score as metrics for evaluating the model's performance is appropriate because they provide a well-rounded view of the model's performance\n",
        "\n",
        "\n",
        "##Comparison of  the performance and training time of the Decision Tree and Bagging models \n",
        "\n",
        "\n",
        "\n",
        "*   The training time is same for both the models \n",
        "\n",
        "\n",
        "*  Performance comparison:\n",
        "\n",
        "*Decision tree model:*\n",
        "\n",
        "Recall = 0.9141025641025641\n",
        "Precision = 0.8991172761664565\n",
        "F1 score = 0.9065479974570884\n",
        "\n",
        "*Bagging model:*\n",
        "\n",
        "Recall = 0.9217948717948717\n",
        "Precision = 0.9809004092769441\n",
        "F1 score = 0.9504296100462657\n",
        "\n",
        "we can see that the bagging model outperformed the decision tree model in terms of precision, recall, and F1 score. This indicates that it is a better model for this problem.\n",
        "\n",
        "The reason for the performance difference could be that Decision trees have a tendency to overfit the training data, which can result in poor performance on the test data. Bagging, on the other hand, helps to reduce overfitting by training multiple trees on different subsets of the training data and then aggregating the results.\n",
        "\n",
        "##Compare the performance and training time of the Bagging and Random Forest models\n",
        "\n",
        "\n",
        "*   The training time is same for both the models \n",
        "\n",
        "*   Performance comparison:\n",
        "\n",
        "Bagging model: \n",
        "\n",
        "Recall = 0.9217948717948717\n",
        "Precision = 0.9809004092769441\n",
        "F1 score = 0.9504296100462657\n",
        "\n",
        "Random forest model:\n",
        "\n",
        "Recall = 0.882051282051282\n",
        "Precision = 0.9927849927849928\n",
        "F1 score = 0.9341479972844535\n",
        "\n",
        "Based on the results reported, the bagging model performs better than the random forest model in terms of overall F1 score, which is often a good metric to use for imbalanced datasets. However, the random forest model has a higher precision, which could be important if avoiding false positives is a primary concern.\n",
        "\n",
        "The reason for performance difference could be that Random forests use multiple decision trees with additional randomness to further reduce overfitting. This increases complexity  and can sometimes result in better precision but could also lead to overfitting and reduced performance.\n",
        "\n",
        "\n",
        "\n",
        "\n",
        "\n"
      ]
    },
    {
      "cell_type": "markdown",
      "metadata": {
        "id": "buQSFi6rb7yE"
      },
      "source": [
        "## Question 3 - Unsupervised Learning Algorithms [40 Marks]\n",
        "\n",
        "A) Apply a KMeans model to decouple the anomalous data from the normal data. Fill in the myKMeans function which accepts as input the training set and returns a fully trained clustering model.\n",
        "\n",
        "B) Build the pipeline that uses a Principal Component Analysis (PCA) model to extract 2 principal components of the training set and create a a KMeans model (same as the model in 3A). Fill in the myPCAKMeans function, which accepts as input the training set and returns a fully trained model. \n",
        "\n",
        "C) Build the pipeline that uses a Principal Component Analysis (PCA) model to extract 2 principal components of the training set and create a a Random Forest model that consists of 50 base decision trees (same as the model in 2D).  Fill in the myPCARF function, which accepts as input the training set and returns a fully trained model. \n",
        "\n",
        "D) Fill in the myEvaluateUnsupervisedModelPerformance function, which takes as input the training and test sets. Please note, you will need to call your functions from 3A, 3B, and 3C within this function to train your models. \n",
        "- Calculate the training time for comparing models. \n",
        "- Evaluate the performance of your models on the test set using the 3 same metrics from 2F. Return three numpy arrays consisting of the three metrics calculated for each model and print them out. \n",
        "- Also, print out the confusion matrix of your three models on the test set. \n",
        "\n",
        "*Note: This function can be the same as the function from 2F, but remember to change all the model names.*\n",
        "\n",
        "E) Written answer - Use the markdown cell to answer the following:\n",
        "- Compare the performance and training time of KMeans model and the Random Forest model from 2D and discuss the reasons for the performance difference.\n",
        "- Compare the performance and training time of PCA + Random Forest model from 3C and the Random Forest model from 2D, and discuss the reasons for the performance difference."
      ]
    },
    {
      "cell_type": "code",
      "execution_count": 46,
      "metadata": {
        "id": "DePEtIW3dVHl"
      },
      "outputs": [],
      "source": [
        "### Q3A) \n",
        "def myKMeans(Xtrain, ytrain):\n",
        "  myKMeans = KMeans(n_clusters=2)\n",
        "  myKMeans.fit(Xtrain)\n",
        "  return myKMeans"
      ]
    },
    {
      "cell_type": "code",
      "execution_count": 47,
      "metadata": {
        "id": "qbKrpYO8a1i1"
      },
      "outputs": [],
      "source": [
        "### Q3B) \n",
        "def myPCAKMeans(Xtrain, ytrain):\n",
        "    myPCAKMeansModel = Pipeline([\n",
        "        (\"pca\", PCA(n_components=2)),\n",
        "        (\"kmeans\", KMeans(n_clusters=2, random_state=42))])\n",
        "    myPCAKMeansModel.fit(Xtrain)\n",
        "    return myPCAKMeansModel"
      ]
    },
    {
      "cell_type": "code",
      "execution_count": 48,
      "metadata": {
        "id": "c7KcEibrdVeG"
      },
      "outputs": [],
      "source": [
        "### Q3C)\n",
        "def myPCARF(Xtrain, ytrain):\n",
        "    #write function here \n",
        "    myPCARF = Pipeline([\n",
        "        ('pca', PCA(n_components=2)),\n",
        "        ('rf', RandomForestClassifier(n_estimators=50))])\n",
        "    myPCARF.fit(Xtrain,ytrain )\n",
        "    return myPCARF"
      ]
    },
    {
      "cell_type": "code",
      "execution_count": 49,
      "metadata": {
        "id": "asKST7s6a1i1",
        "colab": {
          "base_uri": "https://localhost:8080/"
        },
        "outputId": "f16a2811-36ca-420b-da95-e3630fed1e4d"
      },
      "outputs": [
        {
          "output_type": "stream",
          "name": "stderr",
          "text": [
            "/usr/local/lib/python3.8/dist-packages/sklearn/cluster/_kmeans.py:870: FutureWarning: The default value of `n_init` will change from 10 to 'auto' in 1.4. Set the value of `n_init` explicitly to suppress the warning\n",
            "  warnings.warn(\n"
          ]
        },
        {
          "output_type": "stream",
          "name": "stdout",
          "text": [
            "KMeans  training time:  2.2316997051239014 \n",
            "\n"
          ]
        },
        {
          "output_type": "stream",
          "name": "stderr",
          "text": [
            "/usr/local/lib/python3.8/dist-packages/sklearn/cluster/_kmeans.py:870: FutureWarning: The default value of `n_init` will change from 10 to 'auto' in 1.4. Set the value of `n_init` explicitly to suppress the warning\n",
            "  warnings.warn(\n"
          ]
        },
        {
          "output_type": "stream",
          "name": "stdout",
          "text": [
            "PCAKMeans  training time:  1.2275090217590332 \n",
            "\n",
            "PCARF  training time:  2.909113883972168 \n",
            "\n"
          ]
        },
        {
          "output_type": "stream",
          "name": "stderr",
          "text": [
            "/usr/local/lib/python3.8/dist-packages/sklearn/cluster/_kmeans.py:870: FutureWarning: The default value of `n_init` will change from 10 to 'auto' in 1.4. Set the value of `n_init` explicitly to suppress the warning\n",
            "  warnings.warn(\n",
            "/usr/local/lib/python3.8/dist-packages/sklearn/cluster/_kmeans.py:870: FutureWarning: The default value of `n_init` will change from 10 to 'auto' in 1.4. Set the value of `n_init` explicitly to suppress the warning\n",
            "  warnings.warn(\n"
          ]
        },
        {
          "output_type": "stream",
          "name": "stdout",
          "text": [
            "KMeans_Results:  [0.15, 0.012508017960230917, 0.023090586145648313]\n",
            "PCAKMeans_Results:  [0.85, 0.04607046070460705, 0.08740359897172237]\n",
            "PCARF_Results:  [0.4371794871794872, 0.6595744680851063, 0.525828835774865] \n",
            "\n"
          ]
        },
        {
          "output_type": "stream",
          "name": "stderr",
          "text": [
            "/usr/local/lib/python3.8/dist-packages/sklearn/cluster/_kmeans.py:870: FutureWarning: The default value of `n_init` will change from 10 to 'auto' in 1.4. Set the value of `n_init` explicitly to suppress the warning\n",
            "  warnings.warn(\n"
          ]
        },
        {
          "output_type": "stream",
          "name": "stdout",
          "text": [
            "confusion Matrix of  KMeans(n_clusters=2) \n",
            " [[13775  9203]\n",
            " [  668   112]] \n",
            "\n"
          ]
        },
        {
          "output_type": "stream",
          "name": "stderr",
          "text": [
            "/usr/local/lib/python3.8/dist-packages/sklearn/cluster/_kmeans.py:870: FutureWarning: The default value of `n_init` will change from 10 to 'auto' in 1.4. Set the value of `n_init` explicitly to suppress the warning\n",
            "  warnings.warn(\n"
          ]
        },
        {
          "output_type": "stream",
          "name": "stdout",
          "text": [
            "confusion Matrix of  Pipeline(steps=[('pca', PCA(n_components=2)),\n",
            "                ('kmeans', KMeans(n_clusters=2, random_state=42))]) \n",
            " [[ 9250 13728]\n",
            " [  117   663]] \n",
            "\n",
            "confusion Matrix of  Pipeline(steps=[('pca', PCA(n_components=2)),\n",
            "                ('rf', RandomForestClassifier(n_estimators=50))]) \n",
            " [[22800   178]\n",
            " [  438   342]] \n",
            "\n"
          ]
        }
      ],
      "source": [
        "### Q3D)\n",
        "\n",
        "# function to calculate the training time for each model\n",
        "def calculateTrainingTime(modelName):\n",
        "  start_time = time.time();\n",
        "\n",
        "  if modelName== \"KMeans\":\n",
        "    myKMeans(Xtrain,ytrain)\n",
        "  elif modelName== \"PCAKMeans\":\n",
        "    myPCAKMeans(Xtrain,ytrain)\n",
        "  elif modelName==\"PCARF\":\n",
        "    myPCARF(Xtrain,ytrain)\n",
        "\n",
        "  end_time = time.time();\n",
        "  training_time = end_time - start_time;\n",
        "  print(modelName,\" training time: \",  training_time, \"\\n\")\n",
        "\n",
        "def myEvaluateUnsupervisedModelPerformance(Xtrain, Xtest, ytrain, ytest):\n",
        "  #write function here\n",
        "  #Calculate the training time for comparing models.\n",
        "  calculateTrainingTime(\"KMeans\")\n",
        "  calculateTrainingTime(\"PCAKMeans\")\n",
        "  calculateTrainingTime(\"PCARF\")\n",
        "\n",
        "  #Evaluate the performance of  models using 3 metrics of Recall, Preceision and f1 score.\n",
        "  ypred = myKMeans(Xtrain,ytrain).predict(Xtest)\n",
        "  KMeans_recall = recall_score(ytest, ypred)\n",
        "  KMeans_precision = precision_score(ytest, ypred)\n",
        "  KMeans_f1 = f1_score(ytest, ypred)\n",
        "  KMeans_Results=[KMeans_recall, KMeans_precision, KMeans_f1 ]\n",
        "\n",
        "  ypred = myPCAKMeans(Xtrain,ytrain).predict(Xtest)\n",
        "  PCAKMeans_recall = recall_score(ytest, ypred)\n",
        "  PCAKMeans_precision = precision_score(ytest, ypred)\n",
        "  PCAKMeans_f1 = f1_score(ytest, ypred)\n",
        "  PCAKMeans_Results=[PCAKMeans_recall, PCAKMeans_precision, PCAKMeans_f1 ]\n",
        "\n",
        "  ypred = myPCARF(Xtrain,ytrain).predict(Xtest)\n",
        "  PCARF_recall = recall_score(ytest, ypred)\n",
        "  PCARF_precision = precision_score(ytest, ypred)\n",
        "  PCARF_f1 = f1_score(ytest, ypred)\n",
        "  PCARF_Results=[PCARF_recall, PCARF_precision, PCARF_f1 ]\n",
        "\n",
        "  return KMeans_Results, PCAKMeans_Results, PCARF_Results\n",
        "\n",
        "#Call the function here\n",
        "KMeans_Results, PCAKMeans_Results, PCARF_Results=myEvaluateUnsupervisedModelPerformance(Xtrain, Xtest, ytrain, ytest)\n",
        "print(\"KMeans_Results: \", KMeans_Results)\n",
        "print(\"PCAKMeans_Results: \", PCAKMeans_Results)\n",
        "print(\"PCARF_Results: \", PCARF_Results, \"\\n\")\n",
        "\n",
        "#print out the confusion matrix of the three models on the test set.\n",
        "printConfusionMatrix(myKMeans(Xtrain,ytrain))\n",
        "printConfusionMatrix(myPCAKMeans(Xtrain,ytrain))\n",
        "printConfusionMatrix(myPCARF(Xtrain,ytrain))"
      ]
    },
    {
      "cell_type": "markdown",
      "metadata": {
        "id": "tLUT1nMwdYKw"
      },
      "source": [
        "#### Q3E)\n",
        "\n",
        "##Comparison of  the performance and training time of KMeans model and the Random Forest model \n",
        "\n",
        "\n",
        "*   Training Time Comaprison:\n",
        "\n",
        "KMeans  training time:  2.2316997051239014, \n",
        "myRandomForest_training_time:  0.4558906555175781 \n",
        "\n",
        "The KMeans training time is significantly higher than the random forest training time. This might be due to the complexity of KMeans algorithm.\n",
        "\n",
        "*   Performance comparison:\n",
        "KMeans_Results:  [Recall=0.15, Precision=0.012508017960230917, F1=0.023090586145648313]\n",
        "Random Forest Results:  [Recall=0.882051282051282, Precision=0.9927849927849928, F1=0.9341479972844535] \n",
        "\n",
        "The metrics of Kmeans model is extremely bad while that of Random Forest is very good, this might be because teh recall, precision and F1 scores are typically used to evaluate the performance of classifiers, not clustering algorithms.\n",
        "\n",
        "##Comparison of the performance and training time of PCA + Random Forest model from 3C and the Random Forest model \n",
        "\n",
        "*   Training Time Comaprison:\n",
        "\n",
        "PCARF  training time:  2.909113883972168 , \n",
        "myRandomForest_training_time:  0.4558906555175781\n",
        "\n",
        "The PCARF training time is significantly higher than the random forest training time. This might be due to the complexity of PCARF algorithm.\n",
        "\n",
        "*   Performance comparison:\n",
        "PCARF_Results:  [Recall= 0.4371794871794872, Precision=0.6595744680851063, F1= 0.525828835774865]\n",
        "Random Forest Results:  [Recall=0.882051282051282, Precision=0.9927849927849928, F1=0.9341479972844535] \n",
        "\n",
        "All the the 3 metrics of PCARF model is bad while that of Random Forest is very good. \n",
        "\n",
        "The reason for performance difference could be that, one is classifier while other is a clustering model\n",
        "\n"
      ]
    },
    {
      "cell_type": "markdown",
      "metadata": {
        "id": "5JYpQgsvd0bg"
      },
      "source": [
        "# Make sure to add sufficient comments to your code. "
      ]
    }
  ],
  "metadata": {
    "colab": {
      "provenance": []
    },
    "kernelspec": {
      "display_name": "Python 3 (ipykernel)",
      "language": "python",
      "name": "python3"
    },
    "language_info": {
      "codemirror_mode": {
        "name": "ipython",
        "version": 3
      },
      "file_extension": ".py",
      "mimetype": "text/x-python",
      "name": "python",
      "nbconvert_exporter": "python",
      "pygments_lexer": "ipython3",
      "version": "3.9.13"
    }
  },
  "nbformat": 4,
  "nbformat_minor": 0
}