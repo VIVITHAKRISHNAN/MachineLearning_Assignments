{
  "cells": [
    {
      "cell_type": "markdown",
      "metadata": {
        "id": "6P6bAuoTZ_g3"
      },
      "source": [
        "# ECE 9309/9039 Assignment 3 Winter 2023"
      ]
    },
    {
      "cell_type": "markdown",
      "metadata": {
        "id": "0H-Yv6NgaAp6"
      },
      "source": [
        "This notebook contains the questions for Assignment 3. Make sure to complete this assignment individually and appropriately reference all external code and documentation used. *** You must upload this completed Jupyter Notebook file as your submission (other file types are not permitted and will result in a grade of 0).***\n",
        "\n",
        "* If you have trouble running neural network models on your laptop, you can use online platforms, like **[Google Colab](https://colab.research.google.com/)**.\n",
        "* All Figures should have a x- and y-axis label and an appropriate title.\n",
        "**Ensure that your code runs correctly by choosing \"Kernel -> Restart and Cell -> Run All\" before submitting.**"
      ]
    },
    {
      "cell_type": "code",
      "execution_count": 22,
      "metadata": {
        "id": "vlHa--PnqFjM"
      },
      "outputs": [],
      "source": [
        "import warnings \n",
        "warnings.filterwarnings('ignore')\n",
        "\n",
        "import numpy as np\n",
        "import pandas as pd\n",
        "import matplotlib.pyplot as plt\n",
        "%matplotlib inline\n",
        "\n",
        "from sklearn.model_selection import train_test_split, GridSearchCV\n",
        "from sklearn.linear_model import LogisticRegression\n",
        "from sklearn.metrics import accuracy_score, f1_score, recall_score, precision_score\n",
        "from sklearn.preprocessing import StandardScaler\n",
        "\n",
        "from keras.wrappers.scikit_learn import KerasClassifier\n",
        "from tensorflow.keras import Model, Sequential\n",
        "from tensorflow.keras.layers import Dense, Input \n",
        "import tensorflow as tf\n",
        "\n",
        "import time\n",
        "\n",
        "#add other imports here if any (for example, pytorch)"
      ]
    },
    {
      "cell_type": "markdown",
      "metadata": {
        "id": "PaD6nkpfZ1zY"
      },
      "source": [
        "## Data set \n",
        "As modern vehicles have lots of connectivity, protecting in-vehicle network from cyber-attacks is an important issue. Controller Area Network (CAN) is the standard protocol for the in-vehicle network. But, the lack of security features in the CAN protocol makes vehicles vulnerable to attacks. The message injection attack is a representative attack type which injects fabricated messages to deceive electronic control unit (ECUs) or cause malfunctions. Through this notebook, you will develop ML/DL modules to detect different types of CAN attacks and protect vehicle networks. \n",
        "\n",
        "### Source\n",
        "The dataset (CAN-intrusion-dataset-10000.csv) has been constructed by logging CAN traffic via the OBD-II port from a real vehicle while message injection attacks were performing. The classification goal is to distinguish cyber-attacks and normal samples by classifying the data samples. The dataset includes over 10,000 records and 10 attributes (including the target variable \"Label\").\n",
        "\n",
        "### Variables\n",
        "The definitions of the attributes are as followss.\n",
        "\n",
        "* CAN ID : identifier of CAN message.\n",
        "* DATA[0~7] : data value (byte), ranging from 0 to 255. They have been converted from hexadecimal numbers to decimal numbers.  \n",
        "* Label : 0 indicates 'Normal', and 1 indicates an attack (including DoS, Fuzzy, Gear, or RPM)."
      ]
    },
    {
      "cell_type": "markdown",
      "metadata": {
        "id": "Ils9GU09Z1za"
      },
      "source": [
        "## Question 1: Load Datasets (15pts)\n",
        "A) Load the Dataset CAN-intrusion-dataset-10000.csv \n",
        "\n",
        "B) Split the data into equals-sized training and test sets (use a random_state = 1, and do not shuffle the data).  \n",
        "\n",
        "C) How many observations do you have in your training set?  \n",
        "\n",
        "D) How many observations for each class in your training set?\n",
        "\n",
        "E) Z-standarize the input features of the training and test sets."
      ]
    },
    {
      "cell_type": "code",
      "execution_count": 23,
      "metadata": {
        "id": "ZVzln2KJqFjO"
      },
      "outputs": [],
      "source": [
        "### Q1A) \n",
        "df = pd.read_csv(\"CAN-intrusion-dataset-10000.csv\")"
      ]
    },
    {
      "cell_type": "code",
      "execution_count": 24,
      "metadata": {
        "id": "6A7_SLexqFjO"
      },
      "outputs": [],
      "source": [
        "### Q1B) \n",
        "# Split the data into equals-sized training and test sets\n",
        "train_df, test_df = train_test_split(df, test_size=0.5, random_state=1, shuffle=False)"
      ]
    },
    {
      "cell_type": "code",
      "execution_count": 25,
      "metadata": {
        "colab": {
          "base_uri": "https://localhost:8080/"
        },
        "id": "doGCOTlrqFjO",
        "outputId": "afe636e1-f988-455c-f372-fb1aa2fb1cc1"
      },
      "outputs": [
        {
          "output_type": "stream",
          "name": "stdout",
          "text": [
            "Number of observations in the training set: 5000\n"
          ]
        }
      ],
      "source": [
        "### Q1C) \n",
        "# Print the shapes of the training set\n",
        "num_train_obs = train_df.shape[0]\n",
        "print(f\"Number of observations in the training set: {num_train_obs}\")"
      ]
    },
    {
      "cell_type": "code",
      "execution_count": 26,
      "metadata": {
        "colab": {
          "base_uri": "https://localhost:8080/"
        },
        "id": "1gRZpm-FqFjP",
        "outputId": "61a5427b-6ce5-4c7a-f761-0fb5b5ab9834"
      },
      "outputs": [
        {
          "output_type": "stream",
          "name": "stdout",
          "text": [
            "Number of observations for each class in the training set:\n",
            "0    4284\n",
            "1     716\n",
            "Name: Label, dtype: int64\n"
          ]
        }
      ],
      "source": [
        "### Q1D) \n",
        "# Count the number of observations for each class in the training set\n",
        "train_class_counts = train_df[\"Label\"].value_counts()\n",
        "\n",
        "# Print the counts for each class label\n",
        "print(\"Number of observations for each class in the training set:\")\n",
        "print(train_class_counts)"
      ]
    },
    {
      "cell_type": "code",
      "execution_count": 27,
      "metadata": {
        "id": "-L2HlykqqFjP"
      },
      "outputs": [],
      "source": [
        "### Q1E) \n",
        "\n",
        "train_X = train_df.drop(\"Label\", axis=1)\n",
        "test_X = test_df.drop(\"Label\", axis=1)\n",
        "\n",
        "# Initialize the scaler and fit it to the training data\n",
        "scaler = StandardScaler()\n",
        "scaler.fit(train_X)\n",
        "\n",
        "# Transform the training and test data using the scaler\n",
        "train_X = scaler.transform(train_X)\n",
        "test_X = scaler.transform(test_X)"
      ]
    },
    {
      "cell_type": "markdown",
      "metadata": {
        "id": "C1tPRpxyZ1zh"
      },
      "source": [
        "## Question 2: Logistic Regression (20pts)\n",
        "A) Build a L1-regularized logistic regression model to all the training data, and then get the predicted labels for each item of the test set. Tip: use the 'saga' solver for L1 regularization.\n",
        "\n",
        "B) Print out the precision, recall, and F1-score of the test set.\n",
        "\n",
        "C) Print out the model execution time (including both training and testing time) in milliseconds. Please keep two decimal places."
      ]
    },
    {
      "cell_type": "code",
      "execution_count": 28,
      "metadata": {
        "id": "wWAUeyCkqFjP"
      },
      "outputs": [],
      "source": [
        "### Q2A) \n",
        "train_y = train_df[\"Label\"]\n",
        "\n",
        "# Initialize and fit an L1-regularized logistic regression model\n",
        "model = LogisticRegression(penalty='l1', solver='saga', random_state=1, max_iter=10000)\n",
        "\n",
        "# Measure the execution time\n",
        "start_time = time.time()\n",
        "\n",
        "# Fit the model to the training data\n",
        "model.fit(train_X, train_y)\n",
        "\n",
        "# Measure the execution time\n",
        "end_time = time.time()\n",
        "\n",
        "# Make predictions on the test set\n",
        "test_y_pred = model.predict(test_X)\n",
        "\n",
        "# Compute the execution time \n",
        "execution_training_time_ms = (end_time - start_time)*1000"
      ]
    },
    {
      "cell_type": "code",
      "execution_count": 29,
      "metadata": {
        "colab": {
          "base_uri": "https://localhost:8080/"
        },
        "id": "ypGcOJrkqFjQ",
        "outputId": "63453297-9f79-4add-939f-89b66129a3be"
      },
      "outputs": [
        {
          "output_type": "stream",
          "name": "stdout",
          "text": [
            "              precision    recall  f1-score   support\n",
            "\n",
            "           0       0.93      1.00      0.96      4296\n",
            "           1       0.98      0.56      0.71       704\n",
            "\n",
            "    accuracy                           0.94      5000\n",
            "   macro avg       0.96      0.78      0.84      5000\n",
            "weighted avg       0.94      0.94      0.93      5000\n",
            "\n"
          ]
        }
      ],
      "source": [
        "### Q2B) \n",
        "# Compute precision, recall, and F1-score\n",
        "\n",
        "from sklearn.metrics import classification_report\n",
        "\n",
        "# Measure the execution time\n",
        "start_time_test = time.time()\n",
        "\n",
        "test_y_pred = model.predict(test_X)\n",
        "test_y_true = test_df[\"Label\"]\n",
        "\n",
        "# Convert probabilities to binary labels\n",
        "test_y_pred = np.where(test_y_pred > 0.5, 1, 0)\n",
        "report = classification_report(test_y_true, test_y_pred)\n",
        "print(report)\n",
        "\n",
        "# Measure the execution time\n",
        "end_time_test = time.time()\n",
        "\n",
        "# Compute the execution time \n",
        "execution_testing_time_ms = (end_time_test - start_time_test)*1000\n"
      ]
    },
    {
      "cell_type": "code",
      "execution_count": 30,
      "metadata": {
        "colab": {
          "base_uri": "https://localhost:8080/"
        },
        "id": "SSrmQb2dqFjQ",
        "outputId": "19b14b6b-c8ae-4b22-fea9-487d92f2028c"
      },
      "outputs": [
        {
          "output_type": "stream",
          "name": "stdout",
          "text": [
            "Training Execution time (ms): 28.35\n",
            "Testing Execution time (ms): 20.28\n",
            "Total model Execution time (ms): 48.63\n"
          ]
        }
      ],
      "source": [
        "### Q2C) \n",
        "print(\"Training Execution time (ms): {:.2f}\".format(execution_training_time_ms))\n",
        "print(\"Testing Execution time (ms): {:.2f}\".format(execution_testing_time_ms))\n",
        "print(\"Total model Execution time (ms): {:.2f}\".format(execution_training_time_ms+execution_testing_time_ms))\n"
      ]
    },
    {
      "cell_type": "markdown",
      "metadata": {
        "id": "OJKS46WTZ1zp"
      },
      "source": [
        "## Question 3: Single Layer Neural Networks (30 pts)\n",
        "In this task we aim to build models with better performance, using \"deep\" learning. __You may use PyTorch or Keras libraries for building deep learning models.__ \n",
        "\n",
        "A) Implement a single-layer neural network model that is used to classify the CAN intrusion data samples into normal and anomalous classes (0: normal, 1: attack). Use the standarized training set from Q1E) to train the network.\n",
        "\n",
        "The details of the model are as follows:\n",
        "* Use a Sigmoid as the output layer acitivation function to enable non-linearity. \n",
        "* Use the binary cross-entropy loss as a training criterion.\n",
        "* Use Stochastic gradient descent optimizer with a learning rate of 0.1.\n",
        "* Run the model for 10 iterations/epochs.\n",
        "\n",
        "B) Record the loss for each iteration, and make a plot of iterations/epochs vs loss(Binary Cross Entropy).\n",
        "\n",
        "C) Print out the precision, recall, and F1-score of the test set.\n",
        "\n",
        "D) Print out the model execution time (including both training and testing time) in milliseconds. Please keep two decimal places."
      ]
    },
    {
      "cell_type": "code",
      "execution_count": 31,
      "metadata": {
        "colab": {
          "base_uri": "https://localhost:8080/"
        },
        "id": "mQJJ67ooqFjQ",
        "outputId": "e942dbc7-1657-4735-dade-c6fe620e2204"
      },
      "outputs": [
        {
          "output_type": "stream",
          "name": "stderr",
          "text": [
            "WARNING:absl:`lr` is deprecated in Keras optimizer, please use `learning_rate` or use the legacy optimizer, e.g.,tf.keras.optimizers.legacy.SGD.\n"
          ]
        },
        {
          "output_type": "stream",
          "name": "stdout",
          "text": [
            "Epoch 1/10\n",
            "157/157 [==============================] - 1s 1ms/step - loss: 0.7911\n",
            "Epoch 2/10\n",
            "157/157 [==============================] - 0s 2ms/step - loss: 0.5811\n",
            "Epoch 3/10\n",
            "157/157 [==============================] - 0s 2ms/step - loss: 0.4747\n",
            "Epoch 4/10\n",
            "157/157 [==============================] - 0s 2ms/step - loss: 0.4178\n",
            "Epoch 5/10\n",
            "157/157 [==============================] - 0s 2ms/step - loss: 0.3842\n",
            "Epoch 6/10\n",
            "157/157 [==============================] - 0s 1ms/step - loss: 0.3630\n",
            "Epoch 7/10\n",
            "157/157 [==============================] - 0s 1ms/step - loss: 0.3486\n",
            "Epoch 8/10\n",
            "157/157 [==============================] - 0s 2ms/step - loss: 0.3382\n",
            "Epoch 9/10\n",
            "157/157 [==============================] - 0s 1ms/step - loss: 0.3305\n",
            "Epoch 10/10\n",
            "157/157 [==============================] - 0s 1ms/step - loss: 0.3245\n"
          ]
        }
      ],
      "source": [
        "### Q3A)\n",
        "\n",
        "from tensorflow.keras.optimizers import SGD\n",
        "\n",
        "# Define the model\n",
        "model_NN = Sequential()\n",
        "model_NN.add(Dense(units=1, activation='sigmoid', input_dim=train_X.shape[1]))\n",
        "\n",
        "# Compile the model\n",
        "sgd = SGD(lr=0.1)\n",
        "model_NN.compile(loss='binary_crossentropy', optimizer=sgd)\n",
        "\n",
        "# Measure the execution time\n",
        "start_time = time.time()\n",
        "\n",
        "# Train the model\n",
        "history = model_NN.fit(train_X, train_y, epochs=10)\n",
        "\n",
        "# Measure the execution time\n",
        "end_time = time.time()\n",
        "\n",
        "# Compute the execution time\n",
        "execution_training_time_ms = (end_time - start_time)*1000\n"
      ]
    },
    {
      "cell_type": "code",
      "execution_count": 32,
      "metadata": {
        "colab": {
          "base_uri": "https://localhost:8080/",
          "height": 472
        },
        "id": "hTiUy5NUqFjR",
        "outputId": "6a06f6e5-91f1-49ad-edc8-5dd6b3055c51"
      },
      "outputs": [
        {
          "output_type": "display_data",
          "data": {
            "text/plain": [
              "<Figure size 640x480 with 1 Axes>"
            ],
            "image/png": "[encoded data removed]"
          },
          "metadata": {}
        }
      ],
      "source": [
        "### Q3B)\n",
        "\n",
        "# Plot the iterations/epochs vs loss\n",
        "plt.plot(history.history['loss'])\n",
        "plt.title('Model Loss')\n",
        "plt.ylabel('Loss (Binary Cross Entropy)')\n",
        "plt.xlabel('Epoch')\n",
        "plt.show()"
      ]
    },
    {
      "cell_type": "code",
      "execution_count": 33,
      "metadata": {
        "colab": {
          "base_uri": "https://localhost:8080/"
        },
        "id": "oAB_NZnPqFjR",
        "outputId": "4a7a7c09-bff1-4228-b1a4-1289e53880f4"
      },
      "outputs": [
        {
          "output_type": "stream",
          "name": "stdout",
          "text": [
            "157/157 [==============================] - 0s 1ms/step\n",
            "              precision    recall  f1-score   support\n",
            "\n",
            "           0       0.90      1.00      0.94      4296\n",
            "           1       0.93      0.31      0.47       704\n",
            "\n",
            "    accuracy                           0.90      5000\n",
            "   macro avg       0.92      0.65      0.71      5000\n",
            "weighted avg       0.90      0.90      0.88      5000\n",
            "\n"
          ]
        }
      ],
      "source": [
        "### Q3C)\n",
        "\n",
        "# Measure the execution time\n",
        "start_time = time.time()\n",
        "\n",
        "y_pred = model_NN.predict(test_X)\n",
        "\n",
        "\n",
        "# Measure the execution time\n",
        "end_time = time.time()\n",
        "\n",
        "# Compute the execution time\n",
        "execution_testing_time_ms = (end_time - start_time)*1000\n",
        "\n",
        "y_pred =np.where(y_pred > 0.5, 1, 0)\n",
        "report = classification_report(test_y_true, y_pred)\n",
        "print(report)\n",
        "\n"
      ]
    },
    {
      "cell_type": "code",
      "execution_count": 34,
      "metadata": {
        "colab": {
          "base_uri": "https://localhost:8080/"
        },
        "id": "fHsRUTlRqFjR",
        "outputId": "badb1514-3c6f-45f2-88d6-13564b92b018"
      },
      "outputs": [
        {
          "output_type": "stream",
          "name": "stdout",
          "text": [
            "Training Execution time  (ms) : 3001.08\n",
            "Testing Execution time  (ms) : 361.26\n",
            "Total model Execution time  (ms) : 3362.34\n"
          ]
        }
      ],
      "source": [
        "### Q3D)\n",
        "print(\"Training Execution time  (ms) : {:.2f}\".format(execution_training_time_ms))\n",
        "print(\"Testing Execution time  (ms) : {:.2f}\".format(execution_testing_time_ms))\n",
        "print(\"Total model Execution time  (ms) : {:.2f}\".format(execution_training_time_ms+execution_testing_time_ms))\n"
      ]
    },
    {
      "cell_type": "markdown",
      "metadata": {
        "id": "0GXeeEauqFjR"
      },
      "source": [
        "## Question 4: Multi-Layer Perceptron (MLP) (35 pts)"
      ]
    },
    {
      "cell_type": "markdown",
      "metadata": {
        "id": "kXcCj-esqFjR"
      },
      "source": [
        "1) Implement a Multi-Layer Perceptron (MLP) model (at least two hidden layers) that is used to classify the CAN intrusion data samples into normal and anomalous classes (0: normal, 1: attack). Use the standarized training set from Q1E) to train the network. \n",
        "The details of the model are as follows:\n",
        "* Each hidden layer have 8 neurons/units. \n",
        "* Use tanh function as the activation function for hidden layers.\n",
        "* Use a Sigmoid as the output layer acitivation function to enable non-linearity.  \n",
        "* Use Stochastic gradient descent optimizer with a learning rate of 0.1.\n",
        "* Run the model for 10 iterations/epochs \n",
        "\n",
        "B) Record the loss for each iteration, and make a plot of iterations/epochs vs loss(Binary Cross Entropy).\n",
        "\n",
        "C) Print out the precision, recall, and F1-score of the test set.\n",
        "\n",
        "D) Print out the model execution time (including both training and testing time) in milliseconds. Please keep two decimal places.\n",
        "\n",
        "E) Written Answer - Use the markdown cell to answer the following:\n",
        "- Compare the performance and training time of your single layer neural network to the MLP model, and discuss the reasons."
      ]
    },
    {
      "cell_type": "code",
      "execution_count": 35,
      "metadata": {
        "colab": {
          "base_uri": "https://localhost:8080/"
        },
        "id": "z0wiRzKeqFjR",
        "outputId": "534db45b-343c-4513-c8b3-15ea8090359d"
      },
      "outputs": [
        {
          "output_type": "stream",
          "name": "stdout",
          "text": [
            "Epoch 1/10\n",
            "157/157 [==============================] - 1s 2ms/step - loss: 0.3312 - accuracy: 0.8802\n",
            "Epoch 2/10\n",
            "157/157 [==============================] - 0s 2ms/step - loss: 0.1822 - accuracy: 0.9316\n",
            "Epoch 3/10\n",
            "157/157 [==============================] - 0s 2ms/step - loss: 0.1180 - accuracy: 0.9558\n",
            "Epoch 4/10\n",
            "157/157 [==============================] - 0s 2ms/step - loss: 0.0896 - accuracy: 0.9796\n",
            "Epoch 5/10\n",
            "157/157 [==============================] - 0s 2ms/step - loss: 0.0753 - accuracy: 0.9810\n",
            "Epoch 6/10\n",
            "157/157 [==============================] - 0s 2ms/step - loss: 0.0656 - accuracy: 0.9854\n",
            "Epoch 7/10\n",
            "157/157 [==============================] - 0s 2ms/step - loss: 0.0574 - accuracy: 0.9846\n",
            "Epoch 8/10\n",
            "157/157 [==============================] - 0s 2ms/step - loss: 0.0497 - accuracy: 0.9870\n",
            "Epoch 9/10\n",
            "157/157 [==============================] - 0s 2ms/step - loss: 0.0443 - accuracy: 0.9882\n",
            "Epoch 10/10\n",
            "157/157 [==============================] - 0s 2ms/step - loss: 0.0397 - accuracy: 0.9896\n"
          ]
        }
      ],
      "source": [
        "### Q4A)\n",
        "\n",
        "# Define the MLP model\n",
        "MLPmodel = Sequential()\n",
        "MLPmodel.add(Dense(8, activation='tanh', input_dim=9))\n",
        "MLPmodel.add(Dense(8, activation='tanh'))\n",
        "MLPmodel.add(Dense(1, activation='sigmoid'))\n",
        "\n",
        "# Compile the model\n",
        "sgd = tf.keras.optimizers.SGD(learning_rate=0.1)\n",
        "MLPmodel.compile(optimizer= sgd, loss='binary_crossentropy', metrics=['accuracy'])\n",
        "\n",
        "# Measure the execution time\n",
        "end_time = time.time()\n",
        "# Train the model\n",
        "MLPhistory = MLPmodel.fit(train_X, train_y, epochs=10, batch_size=32, verbose=1)\n",
        "# Measure the execution time\n",
        "end_time = time.time()\n",
        "\n",
        "# Compute the execution time\n",
        "execution_training_time = (end_time - start_time)*1000\n"
      ]
    },
    {
      "cell_type": "code",
      "execution_count": 36,
      "metadata": {
        "colab": {
          "base_uri": "https://localhost:8080/",
          "height": 472
        },
        "id": "GD9xXapiqFjS",
        "outputId": "168f8520-4755-4832-a0a6-e41ddc4a0d6b"
      },
      "outputs": [
        {
          "output_type": "display_data",
          "data": {
            "text/plain": [
              "<Figure size 640x480 with 1 Axes>"
            ],
            "image/png": "[encoded data removed]"
          },
          "metadata": {}
        }
      ],
      "source": [
        "### Q4B)\n",
        "# Plot the iterations/epochs vs loss\n",
        "plt.plot(MLPhistory.history['loss'])\n",
        "plt.title('MLP Model Loss')\n",
        "plt.xlabel('Epoch')\n",
        "plt.ylabel('Binary Cross-Entropy Loss')\n",
        "plt.show()"
      ]
    },
    {
      "cell_type": "code",
      "execution_count": 37,
      "metadata": {
        "colab": {
          "base_uri": "https://localhost:8080/"
        },
        "id": "vRWXIbopqFjS",
        "outputId": "dbcfc71a-560d-4614-adb2-f25884a88947"
      },
      "outputs": [
        {
          "output_type": "stream",
          "name": "stdout",
          "text": [
            "157/157 [==============================] - 0s 1ms/step\n",
            "              precision    recall  f1-score   support\n",
            "\n",
            "           0       0.99      0.99      0.99      4296\n",
            "           1       0.96      0.95      0.96       704\n",
            "\n",
            "    accuracy                           0.99      5000\n",
            "   macro avg       0.98      0.97      0.97      5000\n",
            "weighted avg       0.99      0.99      0.99      5000\n",
            "\n"
          ]
        }
      ],
      "source": [
        "### Q4C)\n",
        "# Measure the execution time\n",
        "start_time = time.time()\n",
        "\n",
        "y_pred_MLP = MLPmodel.predict(test_X)\n",
        "\n",
        "\n",
        "# Measure the execution time\n",
        "end_time = time.time()\n",
        "\n",
        "# Compute the execution time\n",
        "execution_testing_time = (end_time - start_time)*1000\n",
        "\n",
        "y_pred_MLP =np.where(y_pred_MLP > 0.5, 1, 0)\n",
        "MLPreport = classification_report(test_y_true, y_pred_MLP)\n",
        "print(MLPreport)"
      ]
    },
    {
      "cell_type": "code",
      "execution_count": 38,
      "metadata": {
        "colab": {
          "base_uri": "https://localhost:8080/"
        },
        "id": "S_DdA9jNqFjS",
        "outputId": "00e83d14-75a0-4d8a-c41c-8c7208f8eaf3"
      },
      "outputs": [
        {
          "output_type": "stream",
          "name": "stdout",
          "text": [
            "Training Execution time  (ms): 3001.08\n",
            "Testing Execution time  (ms): 361.26\n",
            "Total model Execution time  (ms): 3362.34\n"
          ]
        }
      ],
      "source": [
        "### Q4D)\n",
        "print(\"Training Execution time  (ms): {:.2f}\".format(execution_training_time_ms))\n",
        "print(\"Testing Execution time  (ms): {:.2f}\".format(execution_testing_time_ms))\n",
        "print(\"Total model Execution time  (ms): {:.2f}\".format(execution_training_time_ms+execution_testing_time_ms))"
      ]
    },
    {
      "cell_type": "markdown",
      "metadata": {
        "id": "eXX6Z4u3qFjS"
      },
      "source": [
        "#### Q4E)  \n",
        "Written answer here\n",
        "The MLP model outperformed the single-layer neural network on the task of classifying the CAN intrusion data samples into normal and anomalous classes. The MLP model achieved an accuracy of 0.99, while the single-layer neural network achieved an accuracy of 0.90. The MLP model also had higher precision, recall, and F1-score for both classes compared to the single-layer neural network.\n",
        "\n",
        "The reasons for the better performance of MLP are because:\n",
        "1.   It has multiple hidden layers and more neurons per layer\n",
        "2.   The hyperparameters of the MLP model were optimized using grid search\n",
        "\n"
      ]
    },
    {
      "cell_type": "markdown",
      "metadata": {
        "id": "oZh7LRjqqFjS"
      },
      "source": [
        "## Question 5: Hyperparameter Optimization (20 Bonus pts)\n",
        "A) Buil a Grid_Search_NN_model that has the same architecture as the MLP model from Question 4. Use grid search to tune two hyperparameters:\n",
        "* The number of neurons on the hidden layers of your MLP model (find the best number among 8, 16, 32). Each hidden layer should have the same number of neurons/nodes, so only one hyperparameter is needed to tune the number of neurons.\n",
        "* Learning rate of the SGD optimizer (find the best value among the two numbers 0.01 and 0.1). \n",
        "\n",
        "B) Implement grid search to identify optimal hyperparameter values, and print out the best hyperparameter values and the best cross-validation accuracy.\n",
        "\n",
        "You can use 3-fold GridSearchCV and KerasClassifier functions on the standarized training set to do this. \n",
        "\n",
        "C) Build the optimized MLP model on the training set by passing the detected best hyperparameter values to the Grid_Search_NN_model. Print out the precision, recall, and F1-score of the optimized MLP model on the test set.\n",
        "\n",
        "PS: If it took too long for you to run this part, you can ignore this question."
      ]
    },
    {
      "cell_type": "code",
      "execution_count": 39,
      "metadata": {
        "id": "tEwUdownqFjS"
      },
      "outputs": [],
      "source": [
        "### Q5A)\n",
        "def Grid_Search_NN_model(hidden_neurons = 8, learning_rate = 0.1):\n",
        "    #write function here\n",
        "    myGSModel = Sequential()\n",
        "    myGSModel.add(Dense(hidden_neurons, input_dim=train_X.shape[1], activation='tanh'))\n",
        "    myGSModel.add(Dense(hidden_neurons, activation='tanh'))\n",
        "    myGSModel.add(Dense(1, activation='sigmoid'))\n",
        "    optimizer = SGD(lr=learning_rate)\n",
        "    myGSModel.compile(loss='binary_crossentropy', optimizer=optimizer, metrics=['accuracy'])\n",
        "    return myGSModel"
      ]
    },
    {
      "cell_type": "code",
      "execution_count": 40,
      "metadata": {
        "colab": {
          "base_uri": "https://localhost:8080/"
        },
        "id": "rDNM9Q_JqFjT",
        "outputId": "9bc91dfb-914b-401e-97c0-427297302366"
      },
      "outputs": [
        {
          "output_type": "stream",
          "name": "stderr",
          "text": [
            "WARNING:absl:`lr` is deprecated in Keras optimizer, please use `learning_rate` or use the legacy optimizer, e.g.,tf.keras.optimizers.legacy.SGD.\n"
          ]
        },
        {
          "output_type": "stream",
          "name": "stdout",
          "text": [
            "Best hyperparameters:  {'hidden_neurons': 16, 'learning_rate': 0.1}\n",
            "Best cross-validation accuracy:  0.9328006108601888\n"
          ]
        }
      ],
      "source": [
        "### Q5B)\n",
        "# Run gridsearch here\n",
        "GSmodel = KerasClassifier(build_fn=Grid_Search_NN_model, epochs=10, batch_size=32, verbose=0)\n",
        "param_grid = {'hidden_neurons': [8, 16, 32],\n",
        "              'learning_rate': [0.01, 0.1]}\n",
        "\n",
        "grid = GridSearchCV(estimator= GSmodel, param_grid=param_grid, cv=3, n_jobs=-1)\n",
        "\n",
        "grid_result = grid.fit(train_X, train_y)\n",
        "\n",
        "# print the best hyperparameter values and the best cross-validation accuracy\n",
        "print(\"Best hyperparameters: \", grid_result.best_params_)\n",
        "print(\"Best cross-validation accuracy: \", grid_result.best_score_)\n"
      ]
    },
    {
      "cell_type": "code",
      "execution_count": 41,
      "metadata": {
        "colab": {
          "base_uri": "https://localhost:8080/"
        },
        "id": "9wZcV8j9qFjT",
        "outputId": "54748219-c94f-4bbc-8e29-ac0295f2ca2d"
      },
      "outputs": [
        {
          "output_type": "stream",
          "name": "stderr",
          "text": [
            "WARNING:absl:`lr` is deprecated in Keras optimizer, please use `learning_rate` or use the legacy optimizer, e.g.,tf.keras.optimizers.legacy.SGD.\n"
          ]
        },
        {
          "output_type": "stream",
          "name": "stdout",
          "text": [
            "157/157 [==============================] - 1s 2ms/step - loss: 0.5618 - accuracy: 0.7592\n",
            "157/157 [==============================] - 0s 2ms/step\n",
            "              precision    recall  f1-score   support\n",
            "\n",
            "           0       0.86      1.00      0.93      4296\n",
            "           1       1.00      0.01      0.02       704\n",
            "\n",
            "    accuracy                           0.86      5000\n",
            "   macro avg       0.93      0.51      0.47      5000\n",
            "weighted avg       0.88      0.86      0.80      5000\n",
            "\n"
          ]
        }
      ],
      "source": [
        "### Q5C)\n",
        "best_neurons = 32\n",
        "best_lr = 0.1\n",
        "optimized_mlp_model = Grid_Search_NN_model(hidden_neurons=best_neurons, learning_rate=best_lr)\n",
        "optimized_mlp_model.fit(train_X, train_y)\n",
        "y_pred_grid = optimized_mlp_model.predict(test_X)\n",
        "y_pred_grid =np.where(y_pred_grid > 0.5, 1, 0)\n",
        "MLPreport = classification_report(test_y_true, y_pred_grid)\n",
        "print(MLPreport)"
      ]
    },
    {
      "cell_type": "markdown",
      "metadata": {
        "id": "7Fr6Ve_4qFjT"
      },
      "source": [
        "## Make sure to add sufficient comments to your code, and run the entire code before submitting."
      ]
    },
    {
      "cell_type": "code",
      "execution_count": 41,
      "metadata": {
        "id": "_v1QgNL3qFjT"
      },
      "outputs": [],
      "source": []
    }
  ],
  "metadata": {
    "colab": {
      "provenance": []
    },
    "kernelspec": {
      "display_name": "Python 3 (ipykernel)",
      "language": "python",
      "name": "python3"
    },
    "language_info": {
      "codemirror_mode": {
        "name": "ipython",
        "version": 3
      },
      "file_extension": ".py",
      "mimetype": "text/x-python",
      "name": "python",
      "nbconvert_exporter": "python",
      "pygments_lexer": "ipython3",
      "version": "3.9.13"
    }
  },
  "nbformat": 4,
  "nbformat_minor": 0
}