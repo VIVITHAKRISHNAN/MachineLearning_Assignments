{
  "cells": [
    {
      "cell_type": "markdown",
      "metadata": {
        "id": "FK-Nm7jB-gbE"
      },
      "source": [
        "# ECE 9309/9039 Assignment 1 Winter 2023"
      ]
    },
    {
      "cell_type": "markdown",
      "metadata": {
        "id": "ZVeTZSjF-n1O"
      },
      "source": [
        "# Total: /100\n",
        "\n",
        "## Instructions\n",
        "\n",
        "* Complete the Lab assignment\n",
        "\n",
        "* Once the notebook is complete, restart your kernel and rerun your cells\n",
        "\n",
        "* Submit this notebook to owl by the deadline\n",
        "\n",
        "* You may use any python library functions you wish to complete the Lab assignment.\n",
        "\n",
        "\n",
        "\n",
        "This notebook contains the questions for Assignment 1. Please note, a random seed has been set to ensure the reproducability of the results -- *DO NOT* change this random seed. **If you call additional functions that are based on random number generators, you will need to define their seed to 42 as well**. Make sure to complete this assignment individually and appropriately reference all external code and documentation used. "
      ]
    },
    {
      "cell_type": "code",
      "execution_count": 31,
      "metadata": {
        "id": "YMSsKHC8AAjq"
      },
      "outputs": [],
      "source": [
        "import matplotlib\n",
        "import matplotlib.pyplot as plt \n",
        "%matplotlib inline\n",
        "import pandas as pd \n",
        "import numpy as np\n",
        "import seaborn as sns\n",
        "\n",
        "from sklearn.model_selection import train_test_split, cross_val_score\n",
        "from sklearn.pipeline import Pipeline\n",
        "from sklearn.linear_model import LinearRegression, Lasso, Ridge, LogisticRegression\n",
        "from sklearn.svm import LinearSVC\n",
        "from sklearn.preprocessing import PolynomialFeatures, StandardScaler\n",
        "from sklearn.metrics import make_scorer, mean_absolute_error, r2_score, accuracy_score, precision_score\n",
        "\n",
        "np.random.seed(42)"
      ]
    },
    {
      "cell_type": "markdown",
      "metadata": {
        "id": "6QVsGck9AKsk"
      },
      "source": [
        "## Data set \n",
        "\n",
        "This assignment's objective is to develop a data-driven predictive model for the power consumption of an industrial refrigeration system using the `Data_Rack01` dataset.  \n",
        "The data frame contains the following data, where each row represents a datapoint:\n",
        "\n",
        "- Dew_Point: the temperature to which air must be cooled to become saturated with water vapor \n",
        "- Indoor_Humidity: The indoor Humidity\n",
        "- Indoor_Temperature: The indoor temprature (Fahrenheit)\n",
        "- Outdoor_Humidity: The outdoor humidity\n",
        "- Outdoor_Temperature: The outdoor temprature (Fahrenheit)\n",
        "- Discharge_Pressure: The pressure generated on the output side of a gas compressor in a refrigeration system\n",
        "- Discharge_Temperature: The compressor's discharge temperature \n",
        "- KW: Power consumed\n",
        "- Power_Factor: The power factor of the refrigeration system\n",
        "- Volts_Line_to_Line\n",
        "- Volts_Line_to_Neutral"
      ]
    },
    {
      "cell_type": "markdown",
      "metadata": {
        "id": "e-_CPHZs_QmP"
      },
      "source": [
        "## Question 1 (40 pts)"
      ]
    },
    {
      "cell_type": "markdown",
      "metadata": {
        "id": "WYC_VhLLAiDJ"
      },
      "source": [
        "### a) Preprocess the data acording to the following:\n",
        "\n",
        "1. Load data into a variable called myData\n",
        "2. In the `myPreProc` function perform the following:\n",
        "  - Remove the empty column(s), \n",
        "  - Drop rows with any missing data (\"NA\").\n",
        "  - Remove the 'DeviceName' column as well\n",
        "\n",
        "The processed data should be returned through the function variable `procData`\n",
        "\n",
        "### b) Define two loss functions:\n",
        "- one that measures the absolute difference between observations and predictions. Return mean and standard deviation of the result.\n",
        "- one that finds the absolute difference that is less than or equal to a threshold. Return mean and standard deviation of the result.\n",
        "\n",
        "### c) Data splitting:\n",
        "- Use power consumption as the target variable for your machine learning model. \n",
        "- Split your preprocessed dataset by setting aside some amount of data for testing, and retaining the rest for training. Reserve 30 percent of your data for testing. *Make sure to set the random_state to 42 if you are using an sklearn function to accomplish this. \n",
        "\n",
        "\n",
        "### d) Build a linear regression model:\n",
        "- Using Ordinary Least Squares, build a model to predict power consumed (KW) as a `linear function` of the other variables (features) in the dataset. In order to properly build the regression model, the features need to be standardized so that no feature can dominate others in determining the prediction values due to differences in feature scales. Build the pipeline that standardizes the features and creates a linear regression model.\n",
        "- Report the coefficient of determination (`R2 score`) when evaluating both the training and testing performance of your model."
      ]
    },
    {
      "cell_type": "code",
      "execution_count": 32,
      "metadata": {
        "id": "idO1fKVYAS2T",
        "colab": {
          "base_uri": "https://localhost:8080/"
        },
        "outputId": "146680fe-2ae7-4dfe-86bf-0fed8f17bf4d"
      },
      "outputs": [
        {
          "output_type": "stream",
          "name": "stdout",
          "text": [
            "<class 'pandas.core.frame.DataFrame'>\n",
            "Int64Index: 25751 entries, 0 to 25750\n",
            "Data columns (total 10 columns):\n",
            " #   Column                 Non-Null Count  Dtype  \n",
            "---  ------                 --------------  -----  \n",
            " 0   Dew_Point              25751 non-null  float64\n",
            " 1   Indoor_Humidity        25751 non-null  float64\n",
            " 2   Indoor_Temperature     25751 non-null  float64\n",
            " 3   Outdoor_Humidity       25751 non-null  float64\n",
            " 4   Outdoor_Temperature    25751 non-null  float64\n",
            " 5   Discharge_Temperature  25751 non-null  float64\n",
            " 6   kW                     25751 non-null  float64\n",
            " 7   Power_Factor           25751 non-null  float64\n",
            " 8   Volts_Line_to_Line     25751 non-null  float64\n",
            " 9   Volts_Line_to_Neutral  25751 non-null  float64\n",
            "dtypes: float64(10)\n",
            "memory usage: 2.2 MB\n"
          ]
        }
      ],
      "source": [
        "#Part 1a\n",
        "\n",
        "#load data\n",
        "myData = pd.read_csv('Data_Rack01.csv')\n",
        "#myData.info()\n",
        "def myPreProc(data):\n",
        "\n",
        "    procData= data.dropna(how='all', axis=1)\n",
        "    procData= procData.dropna(how='any', axis=0)\n",
        "    procData= procData.drop( columns='DeviceName')\n",
        "\n",
        "   #write function\n",
        "    return procData\n",
        "\n",
        "myData=myPreProc(myData)\n",
        "myData.info()\n"
      ]
    },
    {
      "cell_type": "code",
      "execution_count": 33,
      "metadata": {
        "id": "lz5d_U-mDRmL"
      },
      "outputs": [],
      "source": [
        "#Part 1b\n",
        "\n",
        "def abs_diff_loss(obs, pred):\n",
        "    \n",
        "    #write function\n",
        "    resids= np.abs(obs -pred)\n",
        "    return resids.mean(), resids.std(ddof=1)\n",
        "    \n",
        "def threshold_loss(obs, pred, thresh):\n",
        "    absDiff=np.abs(obs -pred)\n",
        "    resids = absDiff[absDiff <= thresh]\n",
        "    #write function\n",
        "    \n",
        "    return resids.mean(), resids.std(ddof=1)\n",
        "\n"
      ]
    },
    {
      "cell_type": "code",
      "execution_count": 34,
      "metadata": {
        "id": "U8Du1o0UEs4D"
      },
      "outputs": [],
      "source": [
        "#Part 1c\n",
        "X = myData.drop('kW', axis = 1)\n",
        "Y = myData['kW']\n",
        "\n",
        "# Split the data into training and testing sets\n",
        "X_train, X_test, Y_train, Y_test= train_test_split(X, Y, test_size=0.3, random_state=42)\n",
        "\n"
      ]
    },
    {
      "cell_type": "code",
      "execution_count": 35,
      "metadata": {
        "id": "AatCUdd2FuRh",
        "colab": {
          "base_uri": "https://localhost:8080/"
        },
        "outputId": "b1d9cb3e-2510-4873-e1ba-688fd44bbb53"
      },
      "outputs": [
        {
          "output_type": "stream",
          "name": "stdout",
          "text": [
            "Training R2 score: 0.44\n",
            "Testing R2 score: 0.42\n",
            "execution_time: 0.02\n"
          ]
        }
      ],
      "source": [
        "#Part 1d\n",
        "import time\n",
        "# Create the pipeline\n",
        "pipe = Pipeline([('scaler', StandardScaler()), \n",
        "                 ('regressor', LinearRegression())\n",
        "                 ])\n",
        "\n",
        "start_time = time.time()\n",
        "\n",
        "# Fit the pipeline on the training data\n",
        "pipe.fit(X_train, Y_train)\n",
        "\n",
        "end_time = time.time()\n",
        "execution_time = end_time - start_time\n",
        "\n",
        "# Predict the target values  on the training and testing data\n",
        "y_train_predict = pipe.predict(X_train)\n",
        "y_test_predict=  pipe.predict(X_test)\n",
        "\n",
        "#calculate R2 score\n",
        "train_r2= r2_score(Y_train,y_train_predict)\n",
        "test_r2= r2_score(Y_test,y_test_predict)\n",
        "\n",
        "print(\"Training R2 score: {:.2f}\".format(train_r2))\n",
        "print(\"Testing R2 score: {:.2f}\".format(test_r2))\n",
        "print(\"execution_time: {:.2f}\".format(execution_time))"
      ]
    },
    {
      "cell_type": "markdown",
      "metadata": {
        "id": "dCjly_Sq_Tpr"
      },
      "source": [
        "## Question 2 - Regularization (25 pts) "
      ]
    },
    {
      "cell_type": "markdown",
      "metadata": {
        "id": "Os-IFVkjei_x"
      },
      "source": [
        "- Use L2 regularization by adding a penalty of $\\lambda \\sum_{i}{\\beta_i^2}$ (where $\\beta_i$ are your regression coefficients) to the regression model. Vary the regularization parameter  𝜆  between 0.2 and 250, evenly spaced in log-space, and generate 50 values.\n",
        "- Build the pipeline that standardizes the features and create a regularized regression model.\n",
        "- Determine the 10-fold crossvalidated performance for different values of the L2-regularisation parameters. Use the cross-validated log-likelihood of the data under the model as evaluation criterion.  \n",
        "- Make a plot of the crossvalidated log-likelihood against $log(\\lambda)$. \n",
        "- Report the best lambda that you found"
      ]
    },
    {
      "cell_type": "code",
      "execution_count": 36,
      "metadata": {
        "id": "-QE0bWwnei_x",
        "colab": {
          "base_uri": "https://localhost:8080/",
          "height": 296
        },
        "outputId": "918d7161-6555-4464-b55d-ecb0230fc71a"
      },
      "outputs": [
        {
          "output_type": "display_data",
          "data": {
            "text/plain": [
              "<Figure size 432x288 with 1 Axes>"
            ],
            "image/png": "[encoded data removed]"
          },
          "metadata": {
            "needs_background": "light"
          }
        },
        {
          "output_type": "stream",
          "name": "stdout",
          "text": [
            "Best lambda:  2.2758459260747874\n"
          ]
        }
      ],
      "source": [
        "from sklearn.model_selection import KFold, cross_val_score\n",
        "from sklearn.metrics import make_scorer\n",
        "\n",
        "# generate 50 values of lambda evenly spaced in log-space\n",
        "lambda_values = np.logspace(-1, 2.5, 50)\n",
        "\n",
        "# Pipeline that standardizes the features and creates a Ridge model\n",
        "model = Pipeline([\n",
        "    ('scaler', StandardScaler()),\n",
        "    ('regressor', Ridge())\n",
        "])\n",
        "\n",
        "\n",
        "cv = KFold(n_splits=10, shuffle=True, random_state=42)\n",
        "\n",
        "def log_likelihood(y_true, y_pred):\n",
        "    sigma=1\n",
        "    return -0.5 * np.sum((y_true - y_pred) ** 2 / sigma ** 2 + np.log(2 * np.pi * sigma ** 2))\n",
        "\n",
        "# Define the custom scoring function using the log_likelihood function\n",
        "sigma = 1\n",
        "log_likelihood_scorer = make_scorer(log_likelihood, greater_is_better=True, needs_proba=False, needs_threshold=False)\n",
        "\n",
        "scores = []\n",
        "for l in lambda_values:\n",
        "    model.set_params(regressor__alpha=l)\n",
        "    scores.append(-np.mean(cross_val_score(model, X, Y, cv=10, scoring=log_likelihood_scorer)))\n",
        "\n",
        "# plotting cross-validated log-likelihood against log(lambda)\n",
        "plt.plot(np.log(lambda_values), scores)\n",
        "plt.xlabel('log(lambda)')\n",
        "plt.ylabel('Cross-Validated Log-Likelihood')\n",
        "plt.show()\n",
        "\n",
        "\n",
        "# BEST lambda value\n",
        "best_lambda = lambda_values[np.argmin(scores)]\n",
        "print('Best lambda: ', best_lambda)\n"
      ]
    },
    {
      "cell_type": "markdown",
      "metadata": {
        "id": "qIyWI6Z9_Wt_"
      },
      "source": [
        "## Question 3 - Classification (35 pts)"
      ]
    },
    {
      "cell_type": "markdown",
      "metadata": {
        "id": "EKJyCvu4LC6u"
      },
      "source": [
        "### a) Binary target:\n",
        "- Convert your target variable in the dataset into a binary variable using >= mean thresholding (use the same data splitting as before). \n",
        "\n",
        "### b) Build logistic regression model:\n",
        "- Define a Logistic Regression model and report the resulting *training* precision and *testing* accuracy of your model. Make sure the set the maximum number of iterations for your model to 10000 (use pipeline for normalization and model building same as Questions 1 and 2).\n",
        "\n",
        "### c) Build a Support Vector Machine (SVM) model:\n",
        "- Define a linear SVM model with default options and maximum number of iterations 10000. Report the resulting *training* precision and *testing* accuracy of your model (use pipeline for normalization and model building same as Questions 1 and 2).\n",
        "\n",
        "\n",
        "### d) Comparison:\n",
        "- Compare the performance of your models in `b` and `c` in terms of generalization performance and execution time, what do you conclude? "
      ]
    },
    {
      "cell_type": "code",
      "execution_count": 37,
      "metadata": {
        "id": "s0NJeac3-b_5"
      },
      "outputs": [],
      "source": [
        "#Part 3a\n",
        "meanThreshold = np.mean(Y)\n",
        "y_bin = np.where(Y >=meanThreshold, 1, 0 )"
      ]
    },
    {
      "cell_type": "code",
      "execution_count": 38,
      "metadata": {
        "id": "55duLbGZM8dv",
        "colab": {
          "base_uri": "https://localhost:8080/"
        },
        "outputId": "21e7fe66-2607-4fb2-9d1a-781e5dc276eb"
      },
      "outputs": [
        {
          "output_type": "stream",
          "name": "stdout",
          "text": [
            "Training precision:  0.807841483979764\n",
            "Testing accuracy:  0.8045560445249806\n",
            "execution_time: 0.12\n"
          ]
        }
      ],
      "source": [
        "#Part 3b\n",
        "X_train, X_test, Y_train, Y_test= train_test_split(X, y_bin, test_size=0.3, random_state=42)\n",
        "\n",
        "lr_pipeline =  Pipeline([\n",
        "    ('scaler', StandardScaler()),\n",
        "    ('classifier', LogisticRegression(solver='lbfgs', max_iter=10000))\n",
        "])\n",
        "\n",
        "start_time = time.time()\n",
        "\n",
        "# Fit the pipeline on the training data\n",
        "lr_pipeline.fit(X_train, Y_train)\n",
        "\n",
        "end_time = time.time()\n",
        "execution_time = end_time - start_time\n",
        "\n",
        "\n",
        "\n",
        "\n",
        "# Evaluate the model performance\n",
        "train_precision = precision_score(Y_train, lr_pipeline.predict(X_train))\n",
        "test_accuracy = accuracy_score(Y_test, lr_pipeline.predict(X_test))\n",
        "\n",
        "\n",
        "print(\"Training precision: \", train_precision)\n",
        "print(\"Testing accuracy: \", test_accuracy)\n",
        "print(\"execution_time: {:.2f}\".format(execution_time))"
      ]
    },
    {
      "cell_type": "code",
      "execution_count": 39,
      "metadata": {
        "id": "mCgpfqYPei_y",
        "colab": {
          "base_uri": "https://localhost:8080/"
        },
        "outputId": "c2bfd1d0-908e-420c-8d75-3e7619f4cf16"
      },
      "outputs": [
        {
          "output_type": "stream",
          "name": "stdout",
          "text": [
            "Training precision:  0.7866311455558247\n",
            "Testing accuracy:  0.7912244369660886\n",
            "execution_time: 14.87\n"
          ]
        },
        {
          "output_type": "stream",
          "name": "stderr",
          "text": [
            "/usr/local/lib/python3.8/dist-packages/sklearn/svm/_base.py:1206: ConvergenceWarning: Liblinear failed to converge, increase the number of iterations.\n",
            "  warnings.warn(\n"
          ]
        }
      ],
      "source": [
        "#Part 3c\n",
        "\n",
        "X_train, X_test, Y_train, Y_test= train_test_split(X, y_bin, test_size=0.3, random_state=42)\n",
        "\n",
        "svm_pipeline =  Pipeline([\n",
        "    ('scaler', StandardScaler()),\n",
        "    ('classifier', LinearSVC( max_iter=10000))\n",
        "])\n",
        "\n",
        "start_time = time.time()\n",
        "\n",
        "svm_pipeline.fit(X_train, Y_train)\n",
        "\n",
        "\n",
        "end_time = time.time()\n",
        "execution_time = end_time - start_time\n",
        "\n",
        "# Evaluate the model performance\n",
        "train_precision = precision_score(Y_train, svm_pipeline.predict(X_train))\n",
        "test_accuracy = accuracy_score(Y_test, svm_pipeline.predict(X_test))\n",
        "\n",
        "\n",
        "print(\"Training precision: \", train_precision)\n",
        "print(\"Testing accuracy: \", test_accuracy)\n",
        "print(\"execution_time: {:.2f}\".format(execution_time))\n",
        "\n"
      ]
    },
    {
      "cell_type": "markdown",
      "metadata": {
        "id": "SWIqznIMei_y"
      },
      "source": [
        "*Part 3d*\n",
        "\n",
        "`Written Answer:`\n",
        "\n",
        "Conclusion:\n",
        "\n",
        "**Logistic Regression**\n",
        "Training precision:  0.807841483979764\n",
        "Testing accuracy:  0.8045560445249806\n",
        "\n",
        "**Support Vector Machine**\n",
        "Training precision:  0.7866311455558247\n",
        "Testing accuracy:  0.7912244369660886\n",
        "\n",
        "\n",
        "It can be seen that Logistic regression performs better in comparison to SVM as it has around **80% of training precision and testing accuracy**. Also it's execution time is just **0.12** secs, which is musch lesser than the execution time of SVM (14.87 secs)."
      ]
    },
    {
      "cell_type": "markdown",
      "source": [
        "So we can conclude that Logistic Regression performs better among both."
      ],
      "metadata": {
        "id": "ctIuwB8dKPrr"
      }
    }
  ],
  "metadata": {
    "colab": {
      "provenance": []
    },
    "kernelspec": {
      "display_name": "Python 3 (ipykernel)",
      "language": "python",
      "name": "python3"
    },
    "language_info": {
      "codemirror_mode": {
        "name": "ipython",
        "version": 3
      },
      "file_extension": ".py",
      "mimetype": "text/x-python",
      "name": "python",
      "nbconvert_exporter": "python",
      "pygments_lexer": "ipython3",
      "version": "3.9.13"
    }
  },
  "nbformat": 4,
  "nbformat_minor": 0
}